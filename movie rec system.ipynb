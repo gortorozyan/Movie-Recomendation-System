{
 "cells": [
  {
   "cell_type": "code",
   "execution_count": 417,
   "id": "c2f97a45-5c1a-4c4a-8e6b-4152f623aae9",
   "metadata": {},
   "outputs": [],
   "source": [
    "import pandas as pd\n",
    "import numpy as np\n",
    "from sklearn.feature_extraction.text import CountVectorizer\n",
    "from sklearn.metrics.pairwise import cosine_similarity"
   ]
  },
  {
   "cell_type": "code",
   "execution_count": 418,
   "id": "d38db603-dd44-4929-8e69-b0820febace6",
   "metadata": {},
   "outputs": [],
   "source": [
    "df = pd.read_csv('imdb_movies.csv')"
   ]
  },
  {
   "cell_type": "code",
   "execution_count": 419,
   "id": "bc0bdfe1-0055-4d9b-9329-2376c94c456d",
   "metadata": {},
   "outputs": [],
   "source": [
    "df['tags'] = df['overview'] + df['genre']"
   ]
  },
  {
   "cell_type": "code",
   "execution_count": 420,
   "id": "9543d9fa-7d04-4190-b2a7-448ca6e6f0ba",
   "metadata": {},
   "outputs": [],
   "source": [
    "df = df[['names', 'tags', 'genre']]"
   ]
  },
  {
   "cell_type": "code",
   "execution_count": 421,
   "id": "c80813af-abe5-4812-9157-622f98a96f1b",
   "metadata": {},
   "outputs": [],
   "source": [
    "cv = CountVectorizer(max_features=df.shape[0], stop_words='english')"
   ]
  },
  {
   "cell_type": "code",
   "execution_count": 422,
   "id": "2bd61a08-9069-4b4e-83e1-866c93c8d584",
   "metadata": {},
   "outputs": [],
   "source": [
    "vector = cv.fit_transform(df['tags'].values.astype('U')).toarray()"
   ]
  },
  {
   "cell_type": "code",
   "execution_count": 423,
   "id": "ce59c3c5-f98c-4da3-8f25-1e2f8fe0378a",
   "metadata": {},
   "outputs": [],
   "source": [
    "similarity = cosine_similarity(vector)"
   ]
  },
  {
   "cell_type": "code",
   "execution_count": 424,
   "id": "1937f80b-2faa-404b-b03a-415044905474",
   "metadata": {},
   "outputs": [],
   "source": [
    "search_history = pd.DataFrame(columns=[\"names\", \"genre\", \"tags\", \"search\"])"
   ]
  },
  {
   "cell_type": "code",
   "execution_count": 425,
   "id": "f712e669-5c36-4d36-91a3-60d7ba7608ee",
   "metadata": {},
   "outputs": [
    {
     "data": {
      "text/html": [
       "<div>\n",
       "<style scoped>\n",
       "    .dataframe tbody tr th:only-of-type {\n",
       "        vertical-align: middle;\n",
       "    }\n",
       "\n",
       "    .dataframe tbody tr th {\n",
       "        vertical-align: top;\n",
       "    }\n",
       "\n",
       "    .dataframe thead th {\n",
       "        text-align: right;\n",
       "    }\n",
       "</style>\n",
       "<table border=\"1\" class=\"dataframe\">\n",
       "  <thead>\n",
       "    <tr style=\"text-align: right;\">\n",
       "      <th></th>\n",
       "      <th>names</th>\n",
       "      <th>genre</th>\n",
       "      <th>tags</th>\n",
       "      <th>search</th>\n",
       "    </tr>\n",
       "  </thead>\n",
       "  <tbody>\n",
       "  </tbody>\n",
       "</table>\n",
       "</div>"
      ],
      "text/plain": [
       "Empty DataFrame\n",
       "Columns: [names, genre, tags, search]\n",
       "Index: []"
      ]
     },
     "execution_count": 425,
     "metadata": {},
     "output_type": "execute_result"
    }
   ],
   "source": [
    "search_history"
   ]
  },
  {
   "cell_type": "code",
   "execution_count": 426,
   "id": "95d3e88a-61b9-40ee-8a9e-295b47c120b9",
   "metadata": {},
   "outputs": [],
   "source": [
    "def recommand(movies):\n",
    "    global search_history\n",
    "    index=df[df['names'] == movies].index[0]\n",
    "    distance = sorted(list(enumerate(similarity[index])), reverse=True, key=lambda vector:vector[1])\n",
    "    for i in distance[0:5]:\n",
    "        print('|Film Name|:',df.iloc[i[0]].names, '|Film Genre|:',df.iloc[i[0]].genre)\n",
    "    if (search_history['names'] == df.iloc[distance[0][0]].names).any():\n",
    "        search_history.loc[search_history['names'] == df.iloc[distance[0][0]].names, 'search'] +=1\n",
    "    else:\n",
    "        search_history.loc[len(search_history)] = [df.iloc[distance[0][0]].names, df.iloc[distance[0][0]].genre, df.iloc[distance[0][0]].tags, 1]\n",
    "    search_history = search_history.sort_values(by=\"search\", ascending=False)"
   ]
  },
  {
   "cell_type": "markdown",
   "id": "28e0d289-f961-45f6-8f87-98ddeb855bf4",
   "metadata": {},
   "source": [
    "SEARCH A FILM"
   ]
  },
  {
   "cell_type": "code",
   "execution_count": 462,
   "id": "34528a30-1ac1-4caa-bee0-16b4ca30437e",
   "metadata": {},
   "outputs": [
    {
     "name": "stdout",
     "output_type": "stream",
     "text": [
      "|Film Name|: Ratatouille |Film Genre|: Animation, Comedy, Family, Fantasy\n",
      "|Film Name|: A Mermaid in Paris |Film Genre|: Romance, Fantasy, Drama, Comedy\n",
      "|Film Name|: Ballerina |Film Genre|: Animation, Adventure, Comedy, Family\n",
      "|Film Name|: Nine Lives |Film Genre|: Fantasy, Comedy, Family\n",
      "|Film Name|: Rugrats in Paris: The Movie |Film Genre|: Family, Animation, Adventure, Comedy\n"
     ]
    }
   ],
   "source": [
    "recommand(\"Ratatouille\")"
   ]
  },
  {
   "cell_type": "markdown",
   "id": "894c6eec-7200-445a-9857-cf8b9ed109ce",
   "metadata": {},
   "source": [
    "YOUR SEARCH HISTORY"
   ]
  },
  {
   "cell_type": "code",
   "execution_count": 463,
   "id": "a2f9efbc-a284-46b4-93bc-b5ccd5f61287",
   "metadata": {
    "scrolled": true
   },
   "outputs": [
    {
     "data": {
      "text/html": [
       "<div>\n",
       "<style scoped>\n",
       "    .dataframe tbody tr th:only-of-type {\n",
       "        vertical-align: middle;\n",
       "    }\n",
       "\n",
       "    .dataframe tbody tr th {\n",
       "        vertical-align: top;\n",
       "    }\n",
       "\n",
       "    .dataframe thead th {\n",
       "        text-align: right;\n",
       "    }\n",
       "</style>\n",
       "<table border=\"1\" class=\"dataframe\">\n",
       "  <thead>\n",
       "    <tr style=\"text-align: right;\">\n",
       "      <th></th>\n",
       "      <th>names</th>\n",
       "      <th>genre</th>\n",
       "      <th>tags</th>\n",
       "      <th>search</th>\n",
       "    </tr>\n",
       "  </thead>\n",
       "  <tbody>\n",
       "    <tr>\n",
       "      <th>7</th>\n",
       "      <td>Ratatouille</td>\n",
       "      <td>Animation, Comedy, Family, Fantasy</td>\n",
       "      <td>Remy, a resident of Paris, appreciates good fo...</td>\n",
       "      <td>8</td>\n",
       "    </tr>\n",
       "    <tr>\n",
       "      <th>1</th>\n",
       "      <td>The Terminator</td>\n",
       "      <td>Action, Thriller, Science Fiction</td>\n",
       "      <td>In the post-apocalyptic future, reigning tyran...</td>\n",
       "      <td>5</td>\n",
       "    </tr>\n",
       "    <tr>\n",
       "      <th>2</th>\n",
       "      <td>Spider-Man</td>\n",
       "      <td>Fantasy, Action</td>\n",
       "      <td>After being bitten by a genetically altered sp...</td>\n",
       "      <td>2</td>\n",
       "    </tr>\n",
       "    <tr>\n",
       "      <th>3</th>\n",
       "      <td>Batman</td>\n",
       "      <td>Fantasy, Action, Crime</td>\n",
       "      <td>Batman must face his most ruthless nemesis whe...</td>\n",
       "      <td>2</td>\n",
       "    </tr>\n",
       "    <tr>\n",
       "      <th>5</th>\n",
       "      <td>The Matrix</td>\n",
       "      <td>Action, Science Fiction</td>\n",
       "      <td>Set in the 22nd century, The Matrix tells the ...</td>\n",
       "      <td>2</td>\n",
       "    </tr>\n",
       "    <tr>\n",
       "      <th>0</th>\n",
       "      <td>On Your Wedding Day</td>\n",
       "      <td>Romance</td>\n",
       "      <td>Through the course of their lives, a man and h...</td>\n",
       "      <td>1</td>\n",
       "    </tr>\n",
       "    <tr>\n",
       "      <th>4</th>\n",
       "      <td>The Godfather</td>\n",
       "      <td>Drama, Crime</td>\n",
       "      <td>Spanning the years 1945 to 1955, a chronicle o...</td>\n",
       "      <td>1</td>\n",
       "    </tr>\n",
       "    <tr>\n",
       "      <th>6</th>\n",
       "      <td>Joker</td>\n",
       "      <td>Crime, Thriller, Drama</td>\n",
       "      <td>During the 1980s, a failed stand-up comedian i...</td>\n",
       "      <td>1</td>\n",
       "    </tr>\n",
       "  </tbody>\n",
       "</table>\n",
       "</div>"
      ],
      "text/plain": [
       "                 names                               genre  \\\n",
       "7          Ratatouille  Animation, Comedy, Family, Fantasy   \n",
       "1       The Terminator   Action, Thriller, Science Fiction   \n",
       "2           Spider-Man                     Fantasy, Action   \n",
       "3               Batman              Fantasy, Action, Crime   \n",
       "5           The Matrix             Action, Science Fiction   \n",
       "0  On Your Wedding Day                             Romance   \n",
       "4        The Godfather                        Drama, Crime   \n",
       "6                Joker              Crime, Thriller, Drama   \n",
       "\n",
       "                                                tags  search  \n",
       "7  Remy, a resident of Paris, appreciates good fo...       8  \n",
       "1  In the post-apocalyptic future, reigning tyran...       5  \n",
       "2  After being bitten by a genetically altered sp...       2  \n",
       "3  Batman must face his most ruthless nemesis whe...       2  \n",
       "5  Set in the 22nd century, The Matrix tells the ...       2  \n",
       "0  Through the course of their lives, a man and h...       1  \n",
       "4  Spanning the years 1945 to 1955, a chronicle o...       1  \n",
       "6  During the 1980s, a failed stand-up comedian i...       1  "
      ]
     },
     "execution_count": 463,
     "metadata": {},
     "output_type": "execute_result"
    }
   ],
   "source": [
    "search_history"
   ]
  },
  {
   "cell_type": "code",
   "execution_count": 464,
   "id": "305ff61c-449d-441d-a282-f31fd892a6f2",
   "metadata": {},
   "outputs": [],
   "source": [
    "def suggest(movies, times):\n",
    "    index=df[df['names'] == movies].index[0]\n",
    "    distance = sorted(list(enumerate(similarity[index])), reverse=True, key=lambda vector:vector[1])\n",
    "    for i in distance[0:times]:\n",
    "        print('|Film Name|:',df.iloc[i[0]].names, '|Film Genre|:',df.iloc[i[0]].genre)"
   ]
  },
  {
   "cell_type": "markdown",
   "id": "d98c2f01-fd64-4531-b95a-0c5845d1087f",
   "metadata": {},
   "source": [
    "FILMS YOU MAY LIKES"
   ]
  },
  {
   "cell_type": "code",
   "execution_count": 469,
   "id": "b8abfa3b-4be3-4134-bc06-6a9276343c19",
   "metadata": {},
   "outputs": [
    {
     "name": "stdout",
     "output_type": "stream",
     "text": [
      "|Film Name|: Ratatouille |Film Genre|: Animation, Comedy, Family, Fantasy\n",
      "|Film Name|: A Mermaid in Paris |Film Genre|: Romance, Fantasy, Drama, Comedy\n",
      "|Film Name|: Ballerina |Film Genre|: Animation, Adventure, Comedy, Family\n",
      "|Film Name|: The Terminator |Film Genre|: Action, Thriller, Science Fiction\n",
      "|Film Name|: Terminator 2: Judgment Day |Film Genre|: Action, Thriller, Science Fiction\n",
      "|Film Name|: Terminator: Dark Fate |Film Genre|: Science Fiction, Action\n",
      "|Film Name|: Spider-Man |Film Genre|: Fantasy, Action\n",
      "|Film Name|: Spider-Man: Into the Spider-Verse |Film Genre|: Action, Adventure, Animation, Science Fiction\n",
      "|Film Name|: Batman |Film Genre|: Fantasy, Action, Crime\n",
      "|Film Name|: The Matrix |Film Genre|: Action, Science Fiction\n"
     ]
    }
   ],
   "source": [
    "suggest(search_history.iloc[0].names,3)\n",
    "suggest(search_history.iloc[1].names,3)\n",
    "suggest(search_history.iloc[2].names,2)\n",
    "suggest(search_history.iloc[3].names,1)\n",
    "suggest(search_history.iloc[4].names,1)"
   ]
  },
  {
   "cell_type": "code",
   "execution_count": null,
   "id": "fa7c686b-0146-4356-81ed-162bc2a7d0d2",
   "metadata": {},
   "outputs": [],
   "source": []
  }
 ],
 "metadata": {
  "kernelspec": {
   "display_name": "Python 3 (ipykernel)",
   "language": "python",
   "name": "python3"
  },
  "language_info": {
   "codemirror_mode": {
    "name": "ipython",
    "version": 3
   },
   "file_extension": ".py",
   "mimetype": "text/x-python",
   "name": "python",
   "nbconvert_exporter": "python",
   "pygments_lexer": "ipython3",
   "version": "3.12.5"
  }
 },
 "nbformat": 4,
 "nbformat_minor": 5
}
